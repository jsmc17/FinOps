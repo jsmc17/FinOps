{
  "nbformat": 4,
  "nbformat_minor": 0,
  "metadata": {
    "colab": {
      "provenance": []
    },
    "kernelspec": {
      "name": "python3",
      "display_name": "Python 3"
    },
    "language_info": {
      "name": "python"
    }
  },
  "cells": [
    {
      "cell_type": "markdown",
      "source": [
        "* Pulls pricing data from AWS APIs - ElastiCache, OpenSearch, Redshift, RDS\n",
        "* Transform into hourly pricing data by SKU for RI analysis\n",
        "* Export to csv"
      ],
      "metadata": {
        "id": "Ds85aHmmCKPz"
      }
    },
    {
      "cell_type": "code",
      "source": [
        "import pandas as pd\n",
        "\n",
        "#### ElastiCache\n",
        "\n",
        "## Reading API into CSV\n",
        "dfdf = pd.read_csv('https://pricing.us-east-1.amazonaws.com/offers/v1.0/aws/AmazonElastiCache/current/index.csv', skiprows=5)\n",
        "\n",
        "## Transforming data\n",
        "dfdf = dfdf.fillna('')\n",
        "dfdf = dfdf[dfdf['Unit'].isin(['Hrs', 'Quantity'])] # filter to just hourly and upfront fee costs\n",
        "dfdf = dfdf[dfdf['PriceDescription'].str.contains('Outpost') == False] # remove pricing for outposts\n",
        "\n",
        "## Creating SKU name field\n",
        "cols = ['Region Code', 'Instance Type', 'Cache Engine']\n",
        "dfdf['SKU_Name'] = dfdf[cols].apply(lambda row: '-'.join(row.values.astype(str)), axis=1)\n",
        "\n",
        "## OnDemand Cost by SKU\n",
        "df1 = dfdf[  (dfdf['TermType'] == 'OnDemand') & (dfdf['usageType'].str.contains('NodeUsage')) ]\n",
        "df1 = df1.pivot(columns = ['PurchaseOption', 'LeaseContractLength'], index = 'SKU', values = 'PricePerUnit')\n",
        "df1.columns = ['OnDemand']\n",
        "\n",
        "## RI Upfront Cost by SKU\n",
        "df2 = dfdf[ (dfdf['TermType'] == 'Reserved') & (dfdf['PriceDescription'] == 'Upfront Fee' ) ]\n",
        "df2 = df2.pivot(columns = ['PurchaseOption', 'LeaseContractLength'], index = 'SKU', values = 'PricePerUnit')\n",
        "df2.columns = ['UpfrontCost ' + '-'.join(col) for col in df2.columns.values]\n",
        "\n",
        "## RI Hourly by SKU\n",
        "df3 = dfdf[ (dfdf['TermType'] == 'Reserved') & (dfdf['PriceDescription'] != 'Upfront Fee') ]\n",
        "df3 = df3.pivot(columns = ['LeaseContractLength', 'PurchaseOption'], index = 'SKU', values = 'PricePerUnit')\n",
        "df3.columns = ['Hourly ' + '-'.join(col) for col in df3.columns.values]\n",
        "\n",
        "## Merging into single table\n",
        "dfec = pd.merge(df1, dfdf[['SKU', 'SKU_Name', 'Region Code', 'Location', 'serviceName', 'Instance Type' ]] ,how = \"left\", left_index = True, right_on = \"SKU\").drop_duplicates()\n",
        "dfec = pd.merge(dfec, df2, how = \"left\", left_on = \"SKU\", right_index = True)\n",
        "dfec = pd.merge(dfec, df3, how = \"left\", left_on = \"SKU\", right_index = True)"
      ],
      "metadata": {
        "id": "ofz62DyICMX7"
      },
      "execution_count": 1,
      "outputs": []
    },
    {
      "cell_type": "code",
      "execution_count": 2,
      "metadata": {
        "id": "X_sKPzA6mTSv"
      },
      "outputs": [],
      "source": [
        "#### OpenSearch\n",
        "\n",
        "## Reading API into CSV\n",
        "dfdf = pd.read_csv('https://pricing.us-east-1.amazonaws.com/offers/v1.0/aws/AmazonES/current/index.csv', skiprows=5)\n",
        "## Transforming data\n",
        "dfdf = dfdf.fillna('')\n",
        "dfdf = dfdf[dfdf['Unit'].isin(['Hrs', 'Quantity'])] # filter to just hourly and upfront fee costs\n",
        "\n",
        "## Creating SKU name field\n",
        "cols = ['Region Code', 'Instance Type']\n",
        "dfdf['SKU_Name'] = dfdf[cols].apply(lambda row: '-'.join(row.values.astype(str)), axis=1)\n",
        "\n",
        "## OnDemand Cost by SKU\n",
        "df1 = dfdf[  (dfdf['TermType'] == 'OnDemand') & (dfdf['usageType'].str.contains('ESInstance')) ]\n",
        "df1 = df1.pivot(columns = ['PurchaseOption', 'LeaseContractLength'], index = 'SKU', values = 'PricePerUnit')\n",
        "df1.columns = ['OnDemand']\n",
        "\n",
        "## RI Upfront Cost by SKU\n",
        "df2 = dfdf[ (dfdf['TermType'] == 'Reserved') & (dfdf['PriceDescription'] == 'Upfront Fee' ) ]\n",
        "df2 = df2.pivot(columns = ['PurchaseOption', 'LeaseContractLength'], index = 'SKU', values = 'PricePerUnit')\n",
        "df2.columns = ['UpfrontCost ' + '-'.join(col) for col in df2.columns.values]\n",
        "\n",
        "## RI Hourly by SKU\n",
        "df3 = dfdf[ (dfdf['TermType'] == 'Reserved') & (dfdf['PriceDescription'] != 'Upfront Fee') ]\n",
        "df3 = df3.pivot(columns = ['LeaseContractLength', 'PurchaseOption'], index = 'SKU', values = 'PricePerUnit')\n",
        "df3.columns = ['Hourly ' + '-'.join(col) for col in df3.columns.values]\n",
        "\n",
        "## Merging into single table\n",
        "dfos = pd.merge(df1, dfdf[['SKU', 'SKU_Name', 'Region Code', 'Location', 'serviceName', 'Instance Type' ]] ,how = \"left\", left_index = True, right_on = \"SKU\").drop_duplicates()\n",
        "dfos = pd.merge(dfos, df2, how = \"left\", left_on = \"SKU\", right_index = True)\n",
        "dfos = pd.merge(dfos, df3, how = \"left\", left_on = \"SKU\", right_index = True)"
      ]
    },
    {
      "cell_type": "code",
      "source": [
        "\n",
        "#### RDS\n",
        "\n",
        "## Reading API into CSV\n",
        "dfdf = pd.read_csv('https://pricing.us-east-1.amazonaws.com/offers/v1.0/aws/AmazonRDS/current/index.csv', skiprows=5)\n",
        "## Transforming data\n",
        "dfdf = dfdf.fillna('')\n",
        "dfdf = dfdf[dfdf['Unit'].isin(['Hrs', 'Quantity'])] # filter to just hourly and upfront fee costs\n",
        "dfdf = dfdf[dfdf['PriceDescription'].str.contains('Outpost') == False] # remove pricing for outposts\n",
        "dfdf = dfdf[dfdf['Location'] != 'Asia Pacific (Osaka-Local)'] #region code doesn't come through for this region - removing\n",
        "dfdf = dfdf[dfdf['Storage'] != 'Aurora IO Optimization Mode'] ## remove pricing for IO Optimized - size flexibility auto adjusts to these\n",
        "dfdf = dfdf[dfdf['Engine Media Type'] != 'Customer-provided']\n",
        "\n",
        "## Creating SKU name field\n",
        "cols = ['Region Code', 'Instance Type', 'Database Engine', 'Database Edition', 'License Model', 'Deployment Option']\n",
        "dfdf['SKU_Name'] = dfdf[cols].apply(lambda row: '-'.join(row.values.astype(str)), axis=1)\n",
        "\n",
        "## OnDemand Cost by SKU\n",
        "df1 = dfdf[  (dfdf['TermType'] == 'OnDemand') & (dfdf['usageType'].str.contains('Usage')) ]\n",
        "df1 = df1.pivot(columns = ['PurchaseOption', 'LeaseContractLength'], index = 'SKU', values = 'PricePerUnit')\n",
        "df1.columns = ['OnDemand']\n",
        "\n",
        "## RI Upfront Cost by SKU\n",
        "df2 = dfdf[ (dfdf['TermType'] == 'Reserved') & (dfdf['PriceDescription'] == 'Upfront Fee' ) ]\n",
        "df2 = df2.pivot(columns = ['PurchaseOption', 'LeaseContractLength'], index = 'SKU', values = 'PricePerUnit')\n",
        "df2.columns = ['UpfrontCost ' + '-'.join(col) for col in df2.columns.values]\n",
        "\n",
        "## RI Hourly by SKU\n",
        "df3 = dfdf[ (dfdf['TermType'] == 'Reserved') & (dfdf['PriceDescription'] != 'Upfront Fee') ]\n",
        "df3 = df3.pivot(columns = ['LeaseContractLength', 'PurchaseOption'], index = 'SKU', values = 'PricePerUnit')\n",
        "df3.columns = ['Hourly ' + '-'.join(col) for col in df3.columns.values]\n",
        "\n",
        "## Merging into single table\n",
        "dfrds = pd.merge(df1, dfdf[['SKU', 'SKU_Name', 'Region Code', 'Location', 'serviceName', 'Instance Type' ]] ,how = \"left\", left_index = True, right_on = \"SKU\").drop_duplicates()\n",
        "dfrds = pd.merge(dfrds, df2, how = \"left\", left_on = \"SKU\", right_index = True)\n",
        "dfrds = pd.merge(dfrds, df3, how = \"left\", left_on = \"SKU\", right_index = True)"
      ],
      "metadata": {
        "colab": {
          "base_uri": "https://localhost:8080/"
        },
        "id": "9AtEL7A_J4He",
        "outputId": "af38461e-b5df-448e-9e03-45f1b4834106"
      },
      "execution_count": 3,
      "outputs": [
        {
          "output_type": "stream",
          "name": "stderr",
          "text": [
            "<ipython-input-3-a1a64e8e5f34>:4: DtypeWarning: Columns (11,48,50,56) have mixed types. Specify dtype option on import or set low_memory=False.\n",
            "  dfdf = pd.read_csv('https://pricing.us-east-1.amazonaws.com/offers/v1.0/aws/AmazonRDS/current/index.csv', skiprows=5)\n"
          ]
        }
      ]
    },
    {
      "cell_type": "code",
      "source": [
        "#### Redshift\n",
        "\n",
        "## Reading API into CSV\n",
        "dfdf = pd.read_csv('https://pricing.us-east-1.amazonaws.com/offers/v1.0/aws/AmazonRedshift/current/index.csv', skiprows=5)\n",
        "\n",
        "## Transforming data\n",
        "dfdf = dfdf.fillna('')\n",
        "dfdf = dfdf[dfdf['Unit'].isin(['Hrs', 'Quantity'])] # filter to just hourly and upfront fee costs\n",
        "\n",
        "\n",
        "## Creating SKU name field\n",
        "cols = ['Region Code', 'Instance Type']\n",
        "dfdf['SKU_Name'] = dfdf[cols].apply(lambda row: '-'.join(row.values.astype(str)), axis=1)\n",
        "\n",
        "## OnDemand Cost by SKU\n",
        "df1 = dfdf[  (dfdf['TermType'] == 'OnDemand') & (dfdf['usageType'].str.contains('Node')) ]\n",
        "df1 = df1.pivot(columns = ['PurchaseOption', 'LeaseContractLength'], index = 'SKU', values = 'PricePerUnit')\n",
        "df1.columns = ['OnDemand']\n",
        "\n",
        "## RI Upfront Cost by SKU\n",
        "df2 = dfdf[ (dfdf['TermType'] == 'Reserved') & (dfdf['PriceDescription'] == 'Upfront Fee' ) ]\n",
        "df2 = df2.pivot(columns = ['PurchaseOption', 'LeaseContractLength'], index = 'SKU', values = 'PricePerUnit')\n",
        "df2.columns = ['UpfrontCost ' + '-'.join(col) for col in df2.columns.values]\n",
        "\n",
        "## RI Hourly by SKU\n",
        "df3 = dfdf[ (dfdf['TermType'] == 'Reserved') & (dfdf['PriceDescription'] != 'Upfront Fee') ]\n",
        "df3 = df3.pivot(columns = ['LeaseContractLength', 'PurchaseOption'], index = 'SKU', values = 'PricePerUnit')\n",
        "df3.columns = ['Hourly ' + '-'.join(col) for col in df3.columns.values]\n",
        "\n",
        "## Merging into single table\n",
        "dfrs = pd.merge(df1, dfdf[['SKU', 'SKU_Name', 'Region Code', 'Location', 'serviceName', 'Instance Type' ]] ,how = \"left\", left_index = True, right_on = \"SKU\").drop_duplicates()\n",
        "dfrs = pd.merge(dfrs, df2, how = \"left\", left_on = \"SKU\", right_index = True)\n",
        "dfrs = pd.merge(dfrs, df3, how = \"left\", left_on = \"SKU\", right_index = True)"
      ],
      "metadata": {
        "id": "eWCw6V9BW10F"
      },
      "execution_count": 4,
      "outputs": []
    },
    {
      "cell_type": "code",
      "source": [
        "################## Create Final Table and Export\n",
        "\n",
        "fdf = pd.concat([dfec, dfos, dfrds, dfrs])\n",
        "\n",
        "## Filtering and Ordering Columns for Final Table\n",
        "fdf = fdf[['OnDemand', 'SKU', 'SKU_Name', 'Region Code', 'Location', 'serviceName', 'Instance Type',\n",
        "          'Hourly 1yr-No Upfront', 'Hourly 1yr-Partial Upfront', 'Hourly 1yr-All Upfront',\n",
        "          'UpfrontCost Partial Upfront-1yr', 'UpfrontCost All Upfront-1yr',\n",
        "          'Hourly 3yr-No Upfront', 'Hourly 3yr-Partial Upfront', 'Hourly 3yr-All Upfront',\n",
        "          'UpfrontCost Partial Upfront-1yr', 'UpfrontCost All Upfront-1yr']]\n",
        "\n",
        "## Export\n",
        "fdf.to_csv('Non-EC2-RI-pricing.csv', index = False)"
      ],
      "metadata": {
        "id": "QhaM1KAwmaYt"
      },
      "execution_count": 5,
      "outputs": []
    },
    {
      "cell_type": "code",
      "source": [
        "fdf.columns"
      ],
      "metadata": {
        "colab": {
          "base_uri": "https://localhost:8080/"
        },
        "id": "erYPoVscmtNh",
        "outputId": "bbef3236-b431-4195-d462-d6392a3c0d93"
      },
      "execution_count": null,
      "outputs": [
        {
          "output_type": "execute_result",
          "data": {
            "text/plain": [
              "Index(['OnDemand', 'SKU', 'SKU_Name', 'Region Code', 'Location', 'serviceName',\n",
              "       'Instance Type', 'UpfrontCost Partial Upfront-3yr',\n",
              "       'UpfrontCost All Upfront-1yr', 'UpfrontCost Partial Upfront-1yr',\n",
              "       'UpfrontCost All Upfront-3yr', 'UpfrontCost Heavy Utilization-3yr',\n",
              "       'UpfrontCost Heavy Utilization-1yr', 'Hourly 3yr-Partial Upfront',\n",
              "       'Hourly 1yr-No Upfront', 'Hourly 1yr-All Upfront',\n",
              "       'Hourly 3yr-No Upfront', 'Hourly 1yr-Partial Upfront',\n",
              "       'Hourly 3yr-All Upfront', 'Hourly 3yr-Heavy Utilization',\n",
              "       'Hourly 1yr-Heavy Utilization'],\n",
              "      dtype='object')"
            ]
          },
          "metadata": {},
          "execution_count": 50
        }
      ]
    },
    {
      "cell_type": "code",
      "source": [],
      "metadata": {
        "id": "kFwXluuioxrm"
      },
      "execution_count": null,
      "outputs": []
    },
    {
      "cell_type": "code",
      "source": [],
      "metadata": {
        "id": "9ho4FTkYpXxy"
      },
      "execution_count": null,
      "outputs": []
    },
    {
      "cell_type": "code",
      "source": [],
      "metadata": {
        "id": "odQrR23U1_IY"
      },
      "execution_count": null,
      "outputs": []
    },
    {
      "cell_type": "code",
      "source": [],
      "metadata": {
        "id": "KNUlMnU723GW"
      },
      "execution_count": null,
      "outputs": []
    },
    {
      "cell_type": "code",
      "source": [],
      "metadata": {
        "id": "rt8RB9mO7bqR"
      },
      "execution_count": null,
      "outputs": []
    }
  ]
}